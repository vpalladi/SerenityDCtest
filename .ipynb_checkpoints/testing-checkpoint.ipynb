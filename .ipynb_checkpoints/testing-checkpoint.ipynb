{
 "cells": [
  {
   "cell_type": "code",
   "execution_count": 1,
   "metadata": {},
   "outputs": [],
   "source": [
    "from analysis import databasing as db\n",
    "from analysis import run\n",
    "import pandas as pd\n",
    "from matplotlib import pyplot as plt\n",
    "import numpy as np\n",
    "from glob import glob\n",
    "import json"
   ]
  },
  {
   "cell_type": "markdown",
   "metadata": {},
   "source": [
    "## Ingest data"
   ]
  },
  {
   "cell_type": "code",
   "execution_count": 3,
   "metadata": {},
   "outputs": [],
   "source": [
    "def loadScan(path, comment=\"\"):\n",
    "    config_file = open(path + \"/config.json\")\n",
    "    config = json.load(config_file)\n",
    "    scans = [run.Run.fromJSON(i, config[i], path, comment=comment) for i in config]\n",
    "    return scans"
   ]
  },
  {
   "cell_type": "code",
   "execution_count": 6,
   "metadata": {},
   "outputs": [
    {
     "name": "stdout",
     "output_type": "stream",
     "text": [
      "Scan Serenity-07_site0_DC004:Tx0-Rx0 Link tx0 rx0 {'baseBoard': 'Serenity-07', 'site': 'site0', 'DC': 'DC004', 'status': '16.001 Gbps', 'DFE': '1', 'tx': 'localhost:3121/xilinx_tcf/Digilent/210249A847C3/0_1_0_50/IBERT/Quad_134/MGT_X0Y30/TX', 'txPolarity': '0', 'txPattern': 'PRBS 31-bit', 'rx': 'localhost:3121/xilinx_tcf/Digilent/210249A847C3/0_1_0_50/IBERT/Quad_132/MGT_X0Y22/RX', 'rxPolarity': '1', 'rxPattern': 'PRBS 31-bit'}\n"
     ]
    }
   ],
   "source": [
    "config_file = open(\"./data/20191122143057/config.json\")\n",
    "config = json.load(config_file)\n",
    "config_file.close()\n",
    "for i in config:\n",
    "    print(i, config[i])\n",
    "    break"
   ]
  },
  {
   "cell_type": "markdown",
   "metadata": {},
   "source": [
    "## Analyse Data"
   ]
  },
  {
   "cell_type": "code",
   "execution_count": 7,
   "metadata": {},
   "outputs": [],
   "source": [
    "r = db.query({\n",
    "    \"timestamp\": \"20191122171523\"\n",
    "})[0]"
   ]
  },
  {
   "cell_type": "code",
   "execution_count": 8,
   "metadata": {},
   "outputs": [],
   "source": [
    "df = r.getDataFrame(purge=True).copy()"
   ]
  },
  {
   "cell_type": "code",
   "execution_count": 9,
   "metadata": {},
   "outputs": [
    {
     "data": {
      "text/plain": [
       "(1e-12, 1)"
      ]
     },
     "execution_count": 9,
     "metadata": {},
     "output_type": "execute_result"
    },
    {
     "data": {
      "image/png": "[encoded data removed]",
      "text/plain": [
       "<Figure size 432x288 with 1 Axes>"
      ]
     },
     "metadata": {
      "needs_background": "light"
     },
     "output_type": "display_data"
    }
   ],
   "source": [
    "df.plot.scatter('time', 'BER')\n",
    "plt.yscale('log')\n",
    "plt.ylim(1e-12,1)"
   ]
  },
  {
   "cell_type": "code",
   "execution_count": 10,
   "metadata": {},
   "outputs": [
    {
     "name": "stderr",
     "output_type": "stream",
     "text": [
      "/home/dmonk/Python/SerenityDCtest/analysis/run.py:33: RuntimeWarning: invalid value encountered in log\n",
      "  return (np.log(BERr(x, rho, muR, sigma) + BERl(x, rho, muL, sigma)))\n"
     ]
    },
    {
     "data": {
      "text/plain": [
       "(array([  0.10305131, -33.1799947 ,  29.97688533,   1.92815698,\n",
       "         27.63102112]),\n",
       " array([[ 0.00020489, -0.00278483,  0.00288756,  0.0004916 ],\n",
       "        [-0.00278483,  0.0454197 , -0.04583268, -0.00856719],\n",
       "        [ 0.00288756, -0.04583268,  0.04898446,  0.00896997],\n",
       "        [ 0.0004916 , -0.00856719,  0.00896997,  0.00176407]]),\n",
       " array([-20.04765044,  16.84454106]),\n",
       " 36.892191495760976,\n",
       " 0.5764404921212652)"
      ]
     },
     "execution_count": 10,
     "metadata": {},
     "output_type": "execute_result"
    }
   ],
   "source": [
    "r.getOpening(1e-12)"
   ]
  },
  {
   "cell_type": "code",
   "execution_count": 11,
   "metadata": {
    "scrolled": true
   },
   "outputs": [
    {
     "data": {
      "text/plain": [
       "<matplotlib.collections.PathCollection at 0x7f4109819910>"
      ]
     },
     "execution_count": 11,
     "metadata": {},
     "output_type": "execute_result"
    },
    {
     "data": {
      "image/png": "[encoded data removed]",
      "text/plain": [
       "<Figure size 432x288 with 1 Axes>"
      ]
     },
     "metadata": {
      "needs_background": "light"
     },
     "output_type": "display_data"
    }
   ],
   "source": [
    "fig, ax = plt.subplots(1,1)\n",
    "r.plotFitCurve(ax)\n",
    "plt.scatter(r.purgedf.time.values, r.purgedf.BER.values)"
   ]
  },
  {
   "cell_type": "code",
   "execution_count": 12,
   "metadata": {},
   "outputs": [
    {
     "data": {
      "text/plain": [
       "{'_id': ObjectId('5dd81386a6777570f8ce0253'),\n",
       " 'baseBoard': 'Serenity-07',\n",
       " 'site': 'site0',\n",
       " 'DC': 'DC004',\n",
       " 'status': '15.999 Gbps',\n",
       " 'DFE': '1',\n",
       " 'tx': 'localhost:3121/xilinx_tcf/Digilent/210249A847C3/0_1_0_50/IBERT/Quad_134/MGT_X0Y30/TX',\n",
       " 'txPolarity': '0',\n",
       " 'txPattern': 'PRBS 31-bit',\n",
       " 'rx': 'localhost:3121/xilinx_tcf/Digilent/210249A847C3/0_1_0_50/IBERT/Quad_132/MGT_X0Y22/RX',\n",
       " 'rxPolarity': '1',\n",
       " 'rxPattern': 'PRBS 31-bit',\n",
       " 'SW Version': 2018.3,\n",
       " 'GT Type': 'UltraScale+ GTY',\n",
       " 'Scan Name': 'Scan Serenity-07_site0_DC004_copper:Tx0-Rx0 Link tx0 rx0',\n",
       " 'Link Settings': '',\n",
       " 'Reset RX After Applying Settings': 'false',\n",
       " 'Open Area': 45,\n",
       " 'Horizontal Opening': 45,\n",
       " 'Horizontal Percentage': 69.23,\n",
       " 'Vertical Opening': 1,\n",
       " 'Vertical Percentage': 100.0,\n",
       " 'Dwell': 'BER',\n",
       " 'Dwell BER': 1e-07,\n",
       " 'Dwell Time': 0,\n",
       " 'Horizontal Increment': 1,\n",
       " 'Horizontal Range': '-0.500 UI to 0.500 UI',\n",
       " 'Misc Info': 'ELF Version: 0x0009 SVN: 16356',\n",
       " 'data': {'time': [-32,\n",
       "   -31,\n",
       "   -30,\n",
       "   -29,\n",
       "   -28,\n",
       "   -27,\n",
       "   -26,\n",
       "   -25,\n",
       "   -24,\n",
       "   -23,\n",
       "   -22,\n",
       "   -21,\n",
       "   -20,\n",
       "   -19,\n",
       "   -18,\n",
       "   -17,\n",
       "   -16,\n",
       "   -15,\n",
       "   -14,\n",
       "   -13,\n",
       "   -12,\n",
       "   -11,\n",
       "   -10,\n",
       "   -9,\n",
       "   -8,\n",
       "   -7,\n",
       "   -6,\n",
       "   -5,\n",
       "   -4,\n",
       "   -3,\n",
       "   -2,\n",
       "   -1,\n",
       "   0,\n",
       "   1,\n",
       "   2,\n",
       "   3,\n",
       "   4,\n",
       "   5,\n",
       "   6,\n",
       "   7,\n",
       "   8,\n",
       "   9,\n",
       "   10,\n",
       "   11,\n",
       "   12,\n",
       "   13,\n",
       "   14,\n",
       "   15,\n",
       "   16,\n",
       "   17,\n",
       "   18,\n",
       "   19,\n",
       "   20,\n",
       "   21,\n",
       "   22,\n",
       "   23,\n",
       "   24,\n",
       "   25,\n",
       "   26,\n",
       "   27,\n",
       "   28,\n",
       "   29,\n",
       "   30,\n",
       "   31,\n",
       "   32],\n",
       "  'BER': [0.0407567,\n",
       "   0.0209476,\n",
       "   0.00873302,\n",
       "   0.00301785,\n",
       "   0.000763905,\n",
       "   0.000153735,\n",
       "   2.82292e-05,\n",
       "   2.00275e-06,\n",
       "   1.90738e-07,\n",
       "   1.90738e-07,\n",
       "   1.90738e-07,\n",
       "   1.90738e-07,\n",
       "   1.90738e-07,\n",
       "   1.90738e-07,\n",
       "   1.90738e-07,\n",
       "   1.90738e-07,\n",
       "   1.90738e-07,\n",
       "   1.90738e-07,\n",
       "   1.90738e-07,\n",
       "   1.90738e-07,\n",
       "   1.90738e-07,\n",
       "   1.90738e-07,\n",
       "   1.90738e-07,\n",
       "   1.90738e-07,\n",
       "   1.90738e-07,\n",
       "   1.90738e-07,\n",
       "   1.90738e-07,\n",
       "   1.90738e-07,\n",
       "   1.90738e-07,\n",
       "   1.90738e-07,\n",
       "   1.90738e-07,\n",
       "   1.90738e-07,\n",
       "   1.90738e-07,\n",
       "   1.90738e-07,\n",
       "   1.90738e-07,\n",
       "   1.90738e-07,\n",
       "   1.90738e-07,\n",
       "   1.90738e-07,\n",
       "   1.90738e-07,\n",
       "   1.90738e-07,\n",
       "   1.90738e-07,\n",
       "   1.90738e-07,\n",
       "   1.90738e-07,\n",
       "   1.90738e-07,\n",
       "   1.90738e-07,\n",
       "   1.90738e-07,\n",
       "   1.90738e-07,\n",
       "   1.90738e-07,\n",
       "   1.90738e-07,\n",
       "   1.90738e-07,\n",
       "   1.90738e-07,\n",
       "   1.90738e-07,\n",
       "   1.90738e-07,\n",
       "   2.86107e-07,\n",
       "   3.0518e-06,\n",
       "   3.51911e-05,\n",
       "   0.000236229,\n",
       "   0.00104801,\n",
       "   0.00414292,\n",
       "   0.012629,\n",
       "   0.0316607,\n",
       "   0.0658762,\n",
       "   0.113591,\n",
       "   0.159094,\n",
       "   0.200298]},\n",
       " 'start': datetime.datetime(2019, 11, 22, 17, 15, 23),\n",
       " 'end': datetime.datetime(2019, 11, 22, 17, 15, 25),\n",
       " 'timestamp': '20191122171523',\n",
       " 'category': 'copper',\n",
       " 'txquad': 134,\n",
       " 'rxquad': 132,\n",
       " 'txpin': 'X0Y30',\n",
       " 'rxpin': 'X0Y22'}"
      ]
     },
     "execution_count": 12,
     "metadata": {},
     "output_type": "execute_result"
    }
   ],
   "source": [
    "r.dict"
   ]
  },
  {
   "cell_type": "code",
   "execution_count": 13,
   "metadata": {},
   "outputs": [
    {
     "data": {
      "text/plain": [
       "True"
      ]
     },
     "execution_count": 13,
     "metadata": {},
     "output_type": "execute_result"
    }
   ],
   "source": [
    "bool(\"false\")"
   ]
  },
  {
   "cell_type": "code",
   "execution_count": null,
   "metadata": {},
   "outputs": [],
   "source": []
  }
 ],
 "metadata": {
  "kernelspec": {
   "display_name": "Python 3",
   "language": "python",
   "name": "python3"
  },
  "language_info": {
   "codemirror_mode": {
    "name": "ipython",
    "version": 3
   },
   "file_extension": ".py",
   "mimetype": "text/x-python",
   "name": "python",
   "nbconvert_exporter": "python",
   "pygments_lexer": "ipython3",
   "version": "3.8.0"
  }
 },
 "nbformat": 4,
 "nbformat_minor": 2
}
